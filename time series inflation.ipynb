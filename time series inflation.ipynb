{
 "cells": [
  {
   "cell_type": "code",
   "execution_count": 11,
   "id": "efcbee75",
   "metadata": {},
   "outputs": [],
   "source": [
    "import pandas as pd \n",
    "import numpy as np \n",
    "from sklearn.model_selection import train_test_split\n",
    "from sklearn.metrics import mean_squared_error\n",
    "import matplotlib.pyplot as plt"
   ]
  },
  {
   "cell_type": "code",
   "execution_count": 12,
   "id": "5c9522a0",
   "metadata": {},
   "outputs": [],
   "source": [
    "df= pd.read_csv(r\"C:\\Users\\Praveen\\OneDrive\\Documents\\Hyper launch\\ML\\time series\\global_inflation_data.csv\")"
   ]
  },
  {
   "cell_type": "code",
   "execution_count": 13,
   "id": "772d0713",
   "metadata": {},
   "outputs": [
    {
     "name": "stdout",
     "output_type": "stream",
     "text": [
      "    Country   Inflation Rate\n",
      "0       1980            11.3\n",
      "1       1981            12.7\n",
      "2       1982             7.7\n",
      "3       1983            12.6\n",
      "4       1984             6.5\n",
      "5       1985             6.3\n",
      "6       1986             8.9\n",
      "7       1987             9.1\n",
      "8       1988             7.2\n",
      "9       1989             4.6\n",
      "10      1990            11.2\n",
      "11      1991            13.5\n",
      "12      1992             9.9\n",
      "13      1993             7.3\n",
      "14      1994            10.3\n",
      "15      1995            10.0\n",
      "16      1996             9.4\n",
      "17      1997             6.8\n",
      "18      1998            13.1\n",
      "19      1999             5.7\n",
      "20      2000             3.8\n",
      "21      2001             4.3\n",
      "22      2002             4.0\n",
      "23      2003             3.9\n",
      "24      2004             3.8\n",
      "25      2005             4.4\n",
      "26      2006             6.7\n",
      "27      2007             6.2\n",
      "28      2008             9.1\n",
      "29      2009            12.3\n",
      "30      2010            10.5\n",
      "31      2011             9.5\n",
      "32      2012            10.0\n",
      "33      2013             9.4\n",
      "34      2014             5.8\n",
      "35      2015             4.9\n",
      "36      2016             4.5\n",
      "37      2017             3.6\n",
      "38      2018             3.4\n",
      "39      2019             4.8\n",
      "40      2020             6.2\n",
      "41      2021             5.5\n",
      "42      2022             6.7\n",
      "43      2023             5.5\n",
      "44      2024             4.6\n"
     ]
    }
   ],
   "source": [
    "print(df)"
   ]
  },
  {
   "cell_type": "code",
   "execution_count": 14,
   "id": "f17f3773",
   "metadata": {},
   "outputs": [
    {
     "name": "stdout",
     "output_type": "stream",
     "text": [
      "    Country   Inflation Rate\n",
      "0       1980            11.3\n",
      "1       1981            12.7\n",
      "2       1982             7.7\n",
      "3       1983            12.6\n",
      "4       1984             6.5\n",
      "5       1985             6.3\n",
      "6       1986             8.9\n",
      "7       1987             9.1\n",
      "8       1988             7.2\n",
      "9       1989             4.6\n",
      "10      1990            11.2\n",
      "11      1991            13.5\n",
      "12      1992             9.9\n",
      "13      1993             7.3\n",
      "14      1994            10.3\n",
      "15      1995            10.0\n",
      "16      1996             9.4\n",
      "17      1997             6.8\n",
      "18      1998            13.1\n",
      "19      1999             5.7\n",
      "20      2000             3.8\n",
      "21      2001             4.3\n",
      "22      2002             4.0\n",
      "23      2003             3.9\n",
      "24      2004             3.8\n",
      "25      2005             4.4\n",
      "26      2006             6.7\n",
      "27      2007             6.2\n",
      "28      2008             9.1\n",
      "29      2009            12.3\n",
      "30      2010            10.5\n",
      "31      2011             9.5\n",
      "32      2012            10.0\n",
      "33      2013             9.4\n",
      "34      2014             5.8\n",
      "35      2015             4.9\n",
      "36      2016             4.5\n",
      "37      2017             3.6\n",
      "38      2018             3.4\n",
      "39      2019             4.8\n",
      "40      2020             6.2\n",
      "41      2021             5.5\n",
      "42      2022             6.7\n",
      "43      2023             5.5\n",
      "44      2024             4.6\n"
     ]
    }
   ],
   "source": [
    "df= df.dropna()\n",
    "print(df)"
   ]
  },
  {
   "cell_type": "code",
   "execution_count": 15,
   "id": "3340e310",
   "metadata": {},
   "outputs": [
    {
     "data": {
      "text/html": [
       "<div>\n",
       "<style scoped>\n",
       "    .dataframe tbody tr th:only-of-type {\n",
       "        vertical-align: middle;\n",
       "    }\n",
       "\n",
       "    .dataframe tbody tr th {\n",
       "        vertical-align: top;\n",
       "    }\n",
       "\n",
       "    .dataframe thead th {\n",
       "        text-align: right;\n",
       "    }\n",
       "</style>\n",
       "<table border=\"1\" class=\"dataframe\">\n",
       "  <thead>\n",
       "    <tr style=\"text-align: right;\">\n",
       "      <th></th>\n",
       "      <th>Country</th>\n",
       "      <th>Inflation Rate</th>\n",
       "    </tr>\n",
       "  </thead>\n",
       "  <tbody>\n",
       "    <tr>\n",
       "      <th>0</th>\n",
       "      <td>1980</td>\n",
       "      <td>11.3</td>\n",
       "    </tr>\n",
       "    <tr>\n",
       "      <th>1</th>\n",
       "      <td>1981</td>\n",
       "      <td>12.7</td>\n",
       "    </tr>\n",
       "    <tr>\n",
       "      <th>2</th>\n",
       "      <td>1982</td>\n",
       "      <td>7.7</td>\n",
       "    </tr>\n",
       "    <tr>\n",
       "      <th>3</th>\n",
       "      <td>1983</td>\n",
       "      <td>12.6</td>\n",
       "    </tr>\n",
       "    <tr>\n",
       "      <th>4</th>\n",
       "      <td>1984</td>\n",
       "      <td>6.5</td>\n",
       "    </tr>\n",
       "    <tr>\n",
       "      <th>5</th>\n",
       "      <td>1985</td>\n",
       "      <td>6.3</td>\n",
       "    </tr>\n",
       "    <tr>\n",
       "      <th>6</th>\n",
       "      <td>1986</td>\n",
       "      <td>8.9</td>\n",
       "    </tr>\n",
       "    <tr>\n",
       "      <th>7</th>\n",
       "      <td>1987</td>\n",
       "      <td>9.1</td>\n",
       "    </tr>\n",
       "    <tr>\n",
       "      <th>8</th>\n",
       "      <td>1988</td>\n",
       "      <td>7.2</td>\n",
       "    </tr>\n",
       "    <tr>\n",
       "      <th>9</th>\n",
       "      <td>1989</td>\n",
       "      <td>4.6</td>\n",
       "    </tr>\n",
       "  </tbody>\n",
       "</table>\n",
       "</div>"
      ],
      "text/plain": [
       "   Country   Inflation Rate\n",
       "0      1980            11.3\n",
       "1      1981            12.7\n",
       "2      1982             7.7\n",
       "3      1983            12.6\n",
       "4      1984             6.5\n",
       "5      1985             6.3\n",
       "6      1986             8.9\n",
       "7      1987             9.1\n",
       "8      1988             7.2\n",
       "9      1989             4.6"
      ]
     },
     "execution_count": 15,
     "metadata": {},
     "output_type": "execute_result"
    }
   ],
   "source": [
    "df.head(10)"
   ]
  },
  {
   "cell_type": "code",
   "execution_count": 9,
   "id": "e6b02038",
   "metadata": {},
   "outputs": [],
   "source": [
    "from xgboost import XGBRegressor"
   ]
  },
  {
   "cell_type": "code",
   "execution_count": 16,
   "id": "9ea8a7af",
   "metadata": {},
   "outputs": [],
   "source": [
    "for lag in range(1,4):\n",
    "    df[f'lag_{lag}']=df[\"Inflation Rate\"].shift(lag)\n",
    "    "
   ]
  },
  {
   "cell_type": "code",
   "execution_count": 21,
   "id": "c482a762",
   "metadata": {},
   "outputs": [],
   "source": [
    "df.dropna(inplace=True)"
   ]
  },
  {
   "cell_type": "code",
   "execution_count": 22,
   "id": "43e069b1",
   "metadata": {},
   "outputs": [],
   "source": [
    "x=df[['lag_1','lag_2','lag_3']]\n",
    "y=df['Inflation Rate']"
   ]
  },
  {
   "cell_type": "code",
   "execution_count": 23,
   "id": "5fcfdac1",
   "metadata": {},
   "outputs": [
    {
     "name": "stdout",
     "output_type": "stream",
     "text": [
      "    lag_1  lag_2  lag_3\n",
      "3     7.7   12.7   11.3\n",
      "4    12.6    7.7   12.7\n",
      "5     6.5   12.6    7.7\n",
      "6     6.3    6.5   12.6\n",
      "7     8.9    6.3    6.5\n",
      "8     9.1    8.9    6.3\n",
      "9     7.2    9.1    8.9\n",
      "10    4.6    7.2    9.1\n",
      "11   11.2    4.6    7.2\n",
      "12   13.5   11.2    4.6\n",
      "13    9.9   13.5   11.2\n",
      "14    7.3    9.9   13.5\n",
      "15   10.3    7.3    9.9\n",
      "16   10.0   10.3    7.3\n",
      "17    9.4   10.0   10.3\n",
      "18    6.8    9.4   10.0\n",
      "19   13.1    6.8    9.4\n",
      "20    5.7   13.1    6.8\n",
      "21    3.8    5.7   13.1\n",
      "22    4.3    3.8    5.7\n",
      "23    4.0    4.3    3.8\n",
      "24    3.9    4.0    4.3\n",
      "25    3.8    3.9    4.0\n",
      "26    4.4    3.8    3.9\n",
      "27    6.7    4.4    3.8\n",
      "28    6.2    6.7    4.4\n",
      "29    9.1    6.2    6.7\n",
      "30   12.3    9.1    6.2\n",
      "31   10.5   12.3    9.1\n",
      "32    9.5   10.5   12.3\n",
      "33   10.0    9.5   10.5\n",
      "34    9.4   10.0    9.5\n",
      "35    5.8    9.4   10.0\n",
      "36    4.9    5.8    9.4\n",
      "37    4.5    4.9    5.8\n",
      "38    3.6    4.5    4.9\n",
      "39    3.4    3.6    4.5\n",
      "40    4.8    3.4    3.6\n",
      "41    6.2    4.8    3.4\n",
      "42    5.5    6.2    4.8\n",
      "43    6.7    5.5    6.2\n",
      "44    5.5    6.7    5.5\n"
     ]
    }
   ],
   "source": [
    "print(x)"
   ]
  },
  {
   "cell_type": "code",
   "execution_count": 24,
   "id": "79824008",
   "metadata": {},
   "outputs": [],
   "source": [
    "x_test,x_train,y_test,y_train=train_test_split(x,y,test_size=0.2,shuffle=False)\n"
   ]
  },
  {
   "cell_type": "code",
   "execution_count": 25,
   "id": "2ac9ab49",
   "metadata": {},
   "outputs": [],
   "source": [
    "model=XGBRegressor()"
   ]
  },
  {
   "cell_type": "code",
   "execution_count": 26,
   "id": "8559a916",
   "metadata": {},
   "outputs": [
    {
     "data": {
      "text/html": [
       "<style>#sk-container-id-1 {color: black;}#sk-container-id-1 pre{padding: 0;}#sk-container-id-1 div.sk-toggleable {background-color: white;}#sk-container-id-1 label.sk-toggleable__label {cursor: pointer;display: block;width: 100%;margin-bottom: 0;padding: 0.3em;box-sizing: border-box;text-align: center;}#sk-container-id-1 label.sk-toggleable__label-arrow:before {content: \"▸\";float: left;margin-right: 0.25em;color: #696969;}#sk-container-id-1 label.sk-toggleable__label-arrow:hover:before {color: black;}#sk-container-id-1 div.sk-estimator:hover label.sk-toggleable__label-arrow:before {color: black;}#sk-container-id-1 div.sk-toggleable__content {max-height: 0;max-width: 0;overflow: hidden;text-align: left;background-color: #f0f8ff;}#sk-container-id-1 div.sk-toggleable__content pre {margin: 0.2em;color: black;border-radius: 0.25em;background-color: #f0f8ff;}#sk-container-id-1 input.sk-toggleable__control:checked~div.sk-toggleable__content {max-height: 200px;max-width: 100%;overflow: auto;}#sk-container-id-1 input.sk-toggleable__control:checked~label.sk-toggleable__label-arrow:before {content: \"▾\";}#sk-container-id-1 div.sk-estimator input.sk-toggleable__control:checked~label.sk-toggleable__label {background-color: #d4ebff;}#sk-container-id-1 div.sk-label input.sk-toggleable__control:checked~label.sk-toggleable__label {background-color: #d4ebff;}#sk-container-id-1 input.sk-hidden--visually {border: 0;clip: rect(1px 1px 1px 1px);clip: rect(1px, 1px, 1px, 1px);height: 1px;margin: -1px;overflow: hidden;padding: 0;position: absolute;width: 1px;}#sk-container-id-1 div.sk-estimator {font-family: monospace;background-color: #f0f8ff;border: 1px dotted black;border-radius: 0.25em;box-sizing: border-box;margin-bottom: 0.5em;}#sk-container-id-1 div.sk-estimator:hover {background-color: #d4ebff;}#sk-container-id-1 div.sk-parallel-item::after {content: \"\";width: 100%;border-bottom: 1px solid gray;flex-grow: 1;}#sk-container-id-1 div.sk-label:hover label.sk-toggleable__label {background-color: #d4ebff;}#sk-container-id-1 div.sk-serial::before {content: \"\";position: absolute;border-left: 1px solid gray;box-sizing: border-box;top: 0;bottom: 0;left: 50%;z-index: 0;}#sk-container-id-1 div.sk-serial {display: flex;flex-direction: column;align-items: center;background-color: white;padding-right: 0.2em;padding-left: 0.2em;position: relative;}#sk-container-id-1 div.sk-item {position: relative;z-index: 1;}#sk-container-id-1 div.sk-parallel {display: flex;align-items: stretch;justify-content: center;background-color: white;position: relative;}#sk-container-id-1 div.sk-item::before, #sk-container-id-1 div.sk-parallel-item::before {content: \"\";position: absolute;border-left: 1px solid gray;box-sizing: border-box;top: 0;bottom: 0;left: 50%;z-index: -1;}#sk-container-id-1 div.sk-parallel-item {display: flex;flex-direction: column;z-index: 1;position: relative;background-color: white;}#sk-container-id-1 div.sk-parallel-item:first-child::after {align-self: flex-end;width: 50%;}#sk-container-id-1 div.sk-parallel-item:last-child::after {align-self: flex-start;width: 50%;}#sk-container-id-1 div.sk-parallel-item:only-child::after {width: 0;}#sk-container-id-1 div.sk-dashed-wrapped {border: 1px dashed gray;margin: 0 0.4em 0.5em 0.4em;box-sizing: border-box;padding-bottom: 0.4em;background-color: white;}#sk-container-id-1 div.sk-label label {font-family: monospace;font-weight: bold;display: inline-block;line-height: 1.2em;}#sk-container-id-1 div.sk-label-container {text-align: center;}#sk-container-id-1 div.sk-container {/* jupyter's `normalize.less` sets `[hidden] { display: none; }` but bootstrap.min.css set `[hidden] { display: none !important; }` so we also need the `!important` here to be able to override the default hidden behavior on the sphinx rendered scikit-learn.org. See: https://github.com/scikit-learn/scikit-learn/issues/21755 */display: inline-block !important;position: relative;}#sk-container-id-1 div.sk-text-repr-fallback {display: none;}</style><div id=\"sk-container-id-1\" class=\"sk-top-container\"><div class=\"sk-text-repr-fallback\"><pre>XGBRegressor(base_score=None, booster=None, callbacks=None,\n",
       "             colsample_bylevel=None, colsample_bynode=None,\n",
       "             colsample_bytree=None, device=None, early_stopping_rounds=None,\n",
       "             enable_categorical=False, eval_metric=None, feature_types=None,\n",
       "             feature_weights=None, gamma=None, grow_policy=None,\n",
       "             importance_type=None, interaction_constraints=None,\n",
       "             learning_rate=None, max_bin=None, max_cat_threshold=None,\n",
       "             max_cat_to_onehot=None, max_delta_step=None, max_depth=None,\n",
       "             max_leaves=None, min_child_weight=None, missing=nan,\n",
       "             monotone_constraints=None, multi_strategy=None, n_estimators=None,\n",
       "             n_jobs=None, num_parallel_tree=None, ...)</pre><b>In a Jupyter environment, please rerun this cell to show the HTML representation or trust the notebook. <br />On GitHub, the HTML representation is unable to render, please try loading this page with nbviewer.org.</b></div><div class=\"sk-container\" hidden><div class=\"sk-item\"><div class=\"sk-estimator sk-toggleable\"><input class=\"sk-toggleable__control sk-hidden--visually\" id=\"sk-estimator-id-1\" type=\"checkbox\" checked><label for=\"sk-estimator-id-1\" class=\"sk-toggleable__label sk-toggleable__label-arrow\">XGBRegressor</label><div class=\"sk-toggleable__content\"><pre>XGBRegressor(base_score=None, booster=None, callbacks=None,\n",
       "             colsample_bylevel=None, colsample_bynode=None,\n",
       "             colsample_bytree=None, device=None, early_stopping_rounds=None,\n",
       "             enable_categorical=False, eval_metric=None, feature_types=None,\n",
       "             feature_weights=None, gamma=None, grow_policy=None,\n",
       "             importance_type=None, interaction_constraints=None,\n",
       "             learning_rate=None, max_bin=None, max_cat_threshold=None,\n",
       "             max_cat_to_onehot=None, max_delta_step=None, max_depth=None,\n",
       "             max_leaves=None, min_child_weight=None, missing=nan,\n",
       "             monotone_constraints=None, multi_strategy=None, n_estimators=None,\n",
       "             n_jobs=None, num_parallel_tree=None, ...)</pre></div></div></div></div></div>"
      ],
      "text/plain": [
       "XGBRegressor(base_score=None, booster=None, callbacks=None,\n",
       "             colsample_bylevel=None, colsample_bynode=None,\n",
       "             colsample_bytree=None, device=None, early_stopping_rounds=None,\n",
       "             enable_categorical=False, eval_metric=None, feature_types=None,\n",
       "             feature_weights=None, gamma=None, grow_policy=None,\n",
       "             importance_type=None, interaction_constraints=None,\n",
       "             learning_rate=None, max_bin=None, max_cat_threshold=None,\n",
       "             max_cat_to_onehot=None, max_delta_step=None, max_depth=None,\n",
       "             max_leaves=None, min_child_weight=None, missing=nan,\n",
       "             monotone_constraints=None, multi_strategy=None, n_estimators=None,\n",
       "             n_jobs=None, num_parallel_tree=None, ...)"
      ]
     },
     "execution_count": 26,
     "metadata": {},
     "output_type": "execute_result"
    }
   ],
   "source": [
    "model.fit(x_train,y_train)"
   ]
  },
  {
   "cell_type": "code",
   "execution_count": 28,
   "id": "e72822b1",
   "metadata": {},
   "outputs": [],
   "source": [
    "y_predict=model.predict(x_test)"
   ]
  },
  {
   "cell_type": "code",
   "execution_count": 29,
   "id": "97c28fe5",
   "metadata": {},
   "outputs": [
    {
     "name": "stdout",
     "output_type": "stream",
     "text": [
      "[5.4207253 5.4207253 5.4211154 5.4995756 5.4999657 5.4211154 5.4211154\n",
      " 3.5998287 5.4410825 5.9439554 5.4207253 5.4207253 5.4207253 5.4211154\n",
      " 5.4207253 5.4207253 5.4207253 4.6000667 3.4013653 3.4774852 4.5148525\n",
      " 4.5148525 4.5148525 4.5148525 5.5014825 5.9439554 5.4999657 5.4211154\n",
      " 5.4211154 5.4207253 5.4207253 5.4207253 4.5996766]\n"
     ]
    }
   ],
   "source": [
    "print(y_predict)"
   ]
  },
  {
   "cell_type": "code",
   "execution_count": 30,
   "id": "5bd83b26",
   "metadata": {},
   "outputs": [
    {
     "name": "stdout",
     "output_type": "stream",
     "text": [
      "3     12.6\n",
      "4      6.5\n",
      "5      6.3\n",
      "6      8.9\n",
      "7      9.1\n",
      "8      7.2\n",
      "9      4.6\n",
      "10    11.2\n",
      "11    13.5\n",
      "12     9.9\n",
      "13     7.3\n",
      "14    10.3\n",
      "15    10.0\n",
      "16     9.4\n",
      "17     6.8\n",
      "18    13.1\n",
      "19     5.7\n",
      "20     3.8\n",
      "21     4.3\n",
      "22     4.0\n",
      "23     3.9\n",
      "24     3.8\n",
      "25     4.4\n",
      "26     6.7\n",
      "27     6.2\n",
      "28     9.1\n",
      "29    12.3\n",
      "30    10.5\n",
      "31     9.5\n",
      "32    10.0\n",
      "33     9.4\n",
      "34     5.8\n",
      "35     4.9\n",
      "Name: Inflation Rate, dtype: float64\n"
     ]
    }
   ],
   "source": [
    "print(y_test)"
   ]
  },
  {
   "cell_type": "code",
   "execution_count": 33,
   "id": "fd2b56bb",
   "metadata": {},
   "outputs": [
    {
     "name": "stdout",
     "output_type": "stream",
     "text": [
      "14.813624758142304\n"
     ]
    }
   ],
   "source": [
    "mse=mean_squared_error(y_test,y_predict)\n",
    "print(mse)"
   ]
  },
  {
   "cell_type": "code",
   "execution_count": null,
   "id": "0bc3af9c",
   "metadata": {},
   "outputs": [],
   "source": []
  },
  {
   "cell_type": "code",
   "execution_count": null,
   "id": "80f6239a",
   "metadata": {},
   "outputs": [],
   "source": []
  }
 ],
 "metadata": {
  "kernelspec": {
   "display_name": "Python 3 (ipykernel)",
   "language": "python",
   "name": "python3"
  },
  "language_info": {
   "codemirror_mode": {
    "name": "ipython",
    "version": 3
   },
   "file_extension": ".py",
   "mimetype": "text/x-python",
   "name": "python",
   "nbconvert_exporter": "python",
   "pygments_lexer": "ipython3",
   "version": "3.11.4"
  }
 },
 "nbformat": 4,
 "nbformat_minor": 5
}
